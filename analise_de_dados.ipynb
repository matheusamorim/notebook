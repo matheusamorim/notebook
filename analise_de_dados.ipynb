{
  "nbformat": 4,
  "nbformat_minor": 0,
  "metadata": {
    "colab": {
      "name": "analise de dados.ipynb",
      "provenance": [],
      "collapsed_sections": [],
      "toc_visible": true,
      "mount_file_id": "1i1j_l6HVcGWJnqGGwzwy19JUnsA_Gyah",
      "authorship_tag": "ABX9TyPCe+erSgVdK2Eiq5jTEZuU",
      "include_colab_link": true
    },
    "kernelspec": {
      "name": "python3",
      "display_name": "Python 3"
    }
  },
  "cells": [
    {
      "cell_type": "markdown",
      "metadata": {
        "id": "view-in-github",
        "colab_type": "text"
      },
      "source": [
        "<a href=\"https://colab.research.google.com/github/matheusamorim/notebook/blob/master/analise_de_dados.ipynb\" target=\"_parent\"><img src=\"https://colab.research.google.com/assets/colab-badge.svg\" alt=\"Open In Colab\"/></a>"
      ]
    },
    {
      "cell_type": "markdown",
      "metadata": {
        "id": "LGzY7vrBtOi7"
      },
      "source": [
        "#Importando as bibliotecas \n",
        "\n",
        "\n",
        "\n"
      ]
    },
    {
      "cell_type": "code",
      "metadata": {
        "id": "Y_CzXp0eUGX3"
      },
      "source": [
        "import pandas as pd\n",
        "import numpy as np\n",
        "import glob\n"
      ],
      "execution_count": null,
      "outputs": []
    },
    {
      "cell_type": "markdown",
      "metadata": {
        "id": "QAsb64PHtWLA"
      },
      "source": [
        "#Criando os caminhos para ser os arquivos do driver"
      ]
    },
    {
      "cell_type": "code",
      "metadata": {
        "id": "MdbUmFZhMufZ"
      },
      "source": [
        "path = '/content/drive/My Drive/dados/GO'\n",
        "all_file = glob.glob(path + \"/*_CONS.csv\")\n",
        "all_file_2 = glob.glob(path + \"/*_DET.csv\")"
      ],
      "execution_count": null,
      "outputs": []
    },
    {
      "cell_type": "markdown",
      "metadata": {
        "id": "6Vb1SAZotk-L"
      },
      "source": [
        "#Fazendo a leitura dos arquivos"
      ]
    },
    {
      "cell_type": "code",
      "metadata": {
        "id": "GxIGTrpcNLqK"
      },
      "source": [
        "cons= []\n",
        "for filename in all_file:\n",
        "  df = pd.read_csv(filename, index_col=None, header=0, encoding='ISO-8859-1')\n",
        "  df = df.rename(columns={'#ID_EVENTO':'ID_EVENTO'})\n",
        "  cons.append(df)\n",
        "\n",
        "det= []\n",
        "for filename in all_file_2:\n",
        "  df = pd.read_csv(filename, index_col=None, header=0, encoding='ISO-8859-1')\n",
        "  df = df.rename(columns={'#ID_EVENTO':'ID_EVENTO'})\n",
        "  det.append(df)"
      ],
      "execution_count": null,
      "outputs": []
    },
    {
      "cell_type": "markdown",
      "metadata": {
        "id": "W9bQWPPGtrqg"
      },
      "source": [
        "#Concatena os arquivos"
      ]
    },
    {
      "cell_type": "code",
      "metadata": {
        "id": "-TwrI_swkQiF"
      },
      "source": [
        "det = pd.concat(det, axis=0, ignore_index=True)\n",
        "cons = pd.concat(cons, axis=0, ignore_index=True)\n"
      ],
      "execution_count": null,
      "outputs": []
    },
    {
      "cell_type": "markdown",
      "metadata": {
        "id": "pyjhDsBktwOg"
      },
      "source": [
        "#fazendo a exportação para CSV"
      ]
    },
    {
      "cell_type": "code",
      "metadata": {
        "id": "G5s4y9kAbx4l"
      },
      "source": [
        "cons.to_csv('2019_cons.csv', index=False,compression=None, encoding='ISO-8859-1')\n",
        "det.to_csv('2019_det.csv', index=False,compression=None, encoding='ISO-8859-1')\n"
      ],
      "execution_count": null,
      "outputs": []
    },
    {
      "cell_type": "code",
      "metadata": {
        "id": "CC7OWKEFOtmd",
        "outputId": "8aeaa38c-ce5e-469b-e0bd-ebfa6563f00a",
        "colab": {
          "base_uri": "https://localhost:8080/",
          "height": 224
        }
      },
      "source": [
        "cons.loc[cons['CID_1'] == \"W01\"]"
      ],
      "execution_count": null,
      "outputs": [
        {
          "output_type": "execute_result",
          "data": {
            "text/html": [
              "<div>\n",
              "<style scoped>\n",
              "    .dataframe tbody tr th:only-of-type {\n",
              "        vertical-align: middle;\n",
              "    }\n",
              "\n",
              "    .dataframe tbody tr th {\n",
              "        vertical-align: top;\n",
              "    }\n",
              "\n",
              "    .dataframe thead th {\n",
              "        text-align: right;\n",
              "    }\n",
              "</style>\n",
              "<table border=\"1\" class=\"dataframe\">\n",
              "  <thead>\n",
              "    <tr style=\"text-align: right;\">\n",
              "      <th></th>\n",
              "      <th>ID_EVENTO</th>\n",
              "      <th>ID_PLANO</th>\n",
              "      <th>IDADE_BENEFICIARIO</th>\n",
              "      <th>SEXO_BENEFICIARIO</th>\n",
              "      <th>CD_MUNIC_BENEFICIARIO</th>\n",
              "      <th>PORTE_OPERADORA</th>\n",
              "      <th>CD_MODALIDADE_OPERADORA</th>\n",
              "      <th>MODALIDADE_OPERADORA</th>\n",
              "      <th>CD_MUNIC_PRESTADOR</th>\n",
              "      <th>UF_PRESTADOR</th>\n",
              "      <th>DT_INTERNACAO</th>\n",
              "      <th>DT_SAIDA_INTERNACAO</th>\n",
              "      <th>CARATER_ATENDIMENTO</th>\n",
              "      <th>TIPO_INTERNACAO</th>\n",
              "      <th>REGIME_INTERNACAO</th>\n",
              "      <th>MOTIVO_ENCERRAMENTO</th>\n",
              "      <th>CID_1</th>\n",
              "      <th>CID_2</th>\n",
              "      <th>CID_3</th>\n",
              "      <th>CID_4</th>\n",
              "      <th>NR_DIARIAS_ACOMPANHANTE</th>\n",
              "      <th>NR_DIARIAS_UTI</th>\n",
              "      <th>LG_VALOR_PREESTABELECIDO</th>\n",
              "      <th>LG_OUTLIER</th>\n",
              "    </tr>\n",
              "  </thead>\n",
              "  <tbody>\n",
              "    <tr>\n",
              "      <th>2974</th>\n",
              "      <td>2781230824</td>\n",
              "      <td>101862</td>\n",
              "      <td>71.0</td>\n",
              "      <td>M</td>\n",
              "      <td>521380.0</td>\n",
              "      <td>PEQUENO</td>\n",
              "      <td>24</td>\n",
              "      <td>Autogestão</td>\n",
              "      <td>521380</td>\n",
              "      <td>GO</td>\n",
              "      <td>13/09/2019</td>\n",
              "      <td>14/09/2019</td>\n",
              "      <td>1</td>\n",
              "      <td>1.0</td>\n",
              "      <td>1.0</td>\n",
              "      <td>12.0</td>\n",
              "      <td>W01</td>\n",
              "      <td>NaN</td>\n",
              "      <td>NaN</td>\n",
              "      <td>NaN</td>\n",
              "      <td>0</td>\n",
              "      <td>0</td>\n",
              "      <td>0</td>\n",
              "      <td>0</td>\n",
              "    </tr>\n",
              "    <tr>\n",
              "      <th>3088</th>\n",
              "      <td>2781230825</td>\n",
              "      <td>101862</td>\n",
              "      <td>71.0</td>\n",
              "      <td>M</td>\n",
              "      <td>521380.0</td>\n",
              "      <td>PEQUENO</td>\n",
              "      <td>24</td>\n",
              "      <td>Autogestão</td>\n",
              "      <td>521380</td>\n",
              "      <td>GO</td>\n",
              "      <td>13/09/2019</td>\n",
              "      <td>14/09/2019</td>\n",
              "      <td>1</td>\n",
              "      <td>1.0</td>\n",
              "      <td>1.0</td>\n",
              "      <td>12.0</td>\n",
              "      <td>W01</td>\n",
              "      <td>NaN</td>\n",
              "      <td>NaN</td>\n",
              "      <td>NaN</td>\n",
              "      <td>0</td>\n",
              "      <td>0</td>\n",
              "      <td>0</td>\n",
              "      <td>0</td>\n",
              "    </tr>\n",
              "    <tr>\n",
              "      <th>16918</th>\n",
              "      <td>2520993187</td>\n",
              "      <td>100677</td>\n",
              "      <td>36.0</td>\n",
              "      <td>F</td>\n",
              "      <td>521380.0</td>\n",
              "      <td>PEQUENO</td>\n",
              "      <td>22</td>\n",
              "      <td>Cooperativa Médica</td>\n",
              "      <td>521380</td>\n",
              "      <td>GO</td>\n",
              "      <td>05/04/2019</td>\n",
              "      <td>06/04/2019</td>\n",
              "      <td>2</td>\n",
              "      <td>1.0</td>\n",
              "      <td>1.0</td>\n",
              "      <td>12.0</td>\n",
              "      <td>W01</td>\n",
              "      <td>NaN</td>\n",
              "      <td>NaN</td>\n",
              "      <td>NaN</td>\n",
              "      <td>0</td>\n",
              "      <td>0</td>\n",
              "      <td>0</td>\n",
              "      <td>0</td>\n",
              "    </tr>\n",
              "    <tr>\n",
              "      <th>71392</th>\n",
              "      <td>2533337074</td>\n",
              "      <td>100677</td>\n",
              "      <td>4.0</td>\n",
              "      <td>F</td>\n",
              "      <td>521380.0</td>\n",
              "      <td>PEQUENO</td>\n",
              "      <td>22</td>\n",
              "      <td>Cooperativa Médica</td>\n",
              "      <td>521380</td>\n",
              "      <td>GO</td>\n",
              "      <td>10/02/2019</td>\n",
              "      <td>10/02/2019</td>\n",
              "      <td>2</td>\n",
              "      <td>1.0</td>\n",
              "      <td>2.0</td>\n",
              "      <td>12.0</td>\n",
              "      <td>W01</td>\n",
              "      <td>NaN</td>\n",
              "      <td>NaN</td>\n",
              "      <td>NaN</td>\n",
              "      <td>0</td>\n",
              "      <td>0</td>\n",
              "      <td>0</td>\n",
              "      <td>0</td>\n",
              "    </tr>\n",
              "    <tr>\n",
              "      <th>74323</th>\n",
              "      <td>2494381949</td>\n",
              "      <td>11434</td>\n",
              "      <td>3.0</td>\n",
              "      <td>M</td>\n",
              "      <td>521150.0</td>\n",
              "      <td>MEDIO</td>\n",
              "      <td>22</td>\n",
              "      <td>Cooperativa Médica</td>\n",
              "      <td>521380</td>\n",
              "      <td>GO</td>\n",
              "      <td>16/02/2019</td>\n",
              "      <td>16/02/2019</td>\n",
              "      <td>2</td>\n",
              "      <td>1.0</td>\n",
              "      <td>2.0</td>\n",
              "      <td>12.0</td>\n",
              "      <td>W01</td>\n",
              "      <td>NaN</td>\n",
              "      <td>NaN</td>\n",
              "      <td>NaN</td>\n",
              "      <td>0</td>\n",
              "      <td>0</td>\n",
              "      <td>0</td>\n",
              "      <td>0</td>\n",
              "    </tr>\n",
              "  </tbody>\n",
              "</table>\n",
              "</div>"
            ],
            "text/plain": [
              "        ID_EVENTO  ID_PLANO  ...  LG_VALOR_PREESTABELECIDO LG_OUTLIER\n",
              "2974   2781230824    101862  ...                         0          0\n",
              "3088   2781230825    101862  ...                         0          0\n",
              "16918  2520993187    100677  ...                         0          0\n",
              "71392  2533337074    100677  ...                         0          0\n",
              "74323  2494381949     11434  ...                         0          0\n",
              "\n",
              "[5 rows x 24 columns]"
            ]
          },
          "metadata": {
            "tags": []
          },
          "execution_count": 10
        }
      ]
    }
  ]
}