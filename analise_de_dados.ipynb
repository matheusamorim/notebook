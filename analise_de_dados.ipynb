{
  "nbformat": 4,
  "nbformat_minor": 0,
  "metadata": {
    "colab": {
      "name": "analise de dados.ipynb",
      "provenance": [],
      "collapsed_sections": [],
      "toc_visible": true,
      "mount_file_id": "1i1j_l6HVcGWJnqGGwzwy19JUnsA_Gyah",
      "authorship_tag": "ABX9TyOIEdlhAvLXMOhMDvy7Sjk5",
      "include_colab_link": true
    },
    "kernelspec": {
      "name": "python3",
      "display_name": "Python 3"
    }
  },
  "cells": [
    {
      "cell_type": "markdown",
      "metadata": {
        "id": "view-in-github",
        "colab_type": "text"
      },
      "source": [
        "<a href=\"https://colab.research.google.com/github/matheusamorim/notebook/blob/master/analise_de_dados.ipynb\" target=\"_parent\"><img src=\"https://colab.research.google.com/assets/colab-badge.svg\" alt=\"Open In Colab\"/></a>"
      ]
    },
    {
      "cell_type": "markdown",
      "metadata": {
        "id": "LGzY7vrBtOi7"
      },
      "source": [
        "#Importando as bibliotecas \n",
        "\n",
        "\n",
        "\n"
      ]
    },
    {
      "cell_type": "code",
      "metadata": {
        "id": "Y_CzXp0eUGX3"
      },
      "source": [
        "import pandas as pd\n",
        "import numpy as np\n",
        "import glob\n"
      ],
      "execution_count": null,
      "outputs": []
    },
    {
      "cell_type": "code",
      "metadata": {
        "id": "HpxkWWVVhrtL",
        "outputId": "69430173-2932-4d89-acbb-328e068829f5",
        "colab": {
          "base_uri": "https://localhost:8080/"
        }
      },
      "source": [
        "! ls\n"
      ],
      "execution_count": 14,
      "outputs": [
        {
          "output_type": "stream",
          "text": [
            "drive  sample_data\n"
          ],
          "name": "stdout"
        }
      ]
    },
    {
      "cell_type": "code",
      "metadata": {
        "id": "zXy0APnRiQqT"
      },
      "source": [
        "!cd sample_data"
      ],
      "execution_count": 13,
      "outputs": []
    },
    {
      "cell_type": "markdown",
      "metadata": {
        "id": "QAsb64PHtWLA"
      },
      "source": [
        "#Criando os caminhos para ser os arquivos do driver"
      ]
    },
    {
      "cell_type": "code",
      "metadata": {
        "id": "MdbUmFZhMufZ"
      },
      "source": [
        "path = '/content/drive/My Drive/dados/GO'\n",
        "all_file = glob.glob(path + \"/*_CONS.csv\")\n",
        "all_file_2 = glob.glob(path + \"/*_DET.csv\")"
      ],
      "execution_count": null,
      "outputs": []
    },
    {
      "cell_type": "markdown",
      "metadata": {
        "id": "6Vb1SAZotk-L"
      },
      "source": [
        "#Fazendo a leitura dos arquivos"
      ]
    },
    {
      "cell_type": "code",
      "metadata": {
        "id": "GxIGTrpcNLqK"
      },
      "source": [
        "cons= []\n",
        "for filename in all_file:\n",
        "  df = pd.read_csv(filename, index_col=None, header=0, encoding='ISO-8859-1')\n",
        "  df = df.rename(columns={'#ID_EVENTO':'ID_EVENTO'})\n",
        "  cons.append(df)\n",
        "\n",
        "det= []\n",
        "for filename in all_file_2:\n",
        "  df = pd.read_csv(filename, index_col=None, header=0, encoding='ISO-8859-1')\n",
        "  df = df.rename(columns={'#ID_EVENTO':'ID_EVENTO'})\n",
        "  det.append(df)"
      ],
      "execution_count": null,
      "outputs": []
    },
    {
      "cell_type": "markdown",
      "metadata": {
        "id": "W9bQWPPGtrqg"
      },
      "source": [
        "#Concatena os arquivos"
      ]
    },
    {
      "cell_type": "code",
      "metadata": {
        "id": "-TwrI_swkQiF"
      },
      "source": [
        "det = pd.concat(det, axis=0, ignore_index=True)\n",
        "cons = pd.concat(cons, axis=0, ignore_index=True)\n"
      ],
      "execution_count": null,
      "outputs": []
    },
    {
      "cell_type": "markdown",
      "metadata": {
        "id": "pyjhDsBktwOg"
      },
      "source": [
        "#fazendo a exportação para CSV"
      ]
    },
    {
      "cell_type": "code",
      "metadata": {
        "id": "G5s4y9kAbx4l"
      },
      "source": [
        "cons.to_csv('2019_cons.csv', index=False,compression=None, encoding='ISO-8859-1')\n",
        "det.to_csv('2019_det.csv', index=False,compression=None, encoding='ISO-8859-1')\n"
      ],
      "execution_count": null,
      "outputs": []
    },
    {
      "cell_type": "code",
      "metadata": {
        "id": "CC7OWKEFOtmd"
      },
      "source": [
        "det.iloc[8]"
      ],
      "execution_count": null,
      "outputs": []
    }
  ]
}